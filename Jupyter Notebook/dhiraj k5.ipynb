{
 "cells": [
  {
   "cell_type": "code",
   "execution_count": null,
   "metadata": {},
   "outputs": [],
   "source": [
    "import math \n",
    "a= int(input(\" The value of a: \"))\n",
    "b = int(input(\" The value of b: \"))\n",
    "print('The absolute value of a is : ',end =\" \")\n",
    "print(math.factorial(a))\n",
    "\n",
    "print ( 'The absolute valur of b is : ',end = \" \")\n",
    "print (math.factorial(b))"
   ]
  },
  {
   "cell_type": "markdown",
   "metadata": {},
   "source": [
    "import MySQLdb\n",
    "db = MySQLdb.connect(\"localhost\",\"testuer\",\"test\")"
   ]
  },
  {
   "cell_type": "code",
   "execution_count": null,
   "metadata": {},
   "outputs": [],
   "source": [
    "import MySQLdb\n",
    "db = MySQLdb.connect(\"localhost\",\"testuer\",\"test\",\"TESTDB\")\n",
    "cursor= db.cursor()\n",
    "cursor.execute(\"SELECT VERSION()\")\n",
    "data= cursor.fetchone()\n",
    "print \"Database version : %s \"%data\n",
    "db.close()"
   ]
  },
  {
   "cell_type": "code",
   "execution_count": null,
   "metadata": {},
   "outputs": [],
   "source": []
  }
 ],
 "metadata": {
  "kernelspec": {
   "display_name": "Python 3",
   "language": "python",
   "name": "python3"
  },
  "language_info": {
   "codemirror_mode": {
    "name": "ipython",
    "version": 3
   },
   "file_extension": ".py",
   "mimetype": "text/x-python",
   "name": "python",
   "nbconvert_exporter": "python",
   "pygments_lexer": "ipython3",
   "version": "3.7.3"
  }
 },
 "nbformat": 4,
 "nbformat_minor": 4
}

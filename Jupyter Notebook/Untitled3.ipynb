{
 "cells": [
  {
   "cell_type": "code",
   "execution_count": 9,
   "metadata": {},
   "outputs": [
    {
     "name": "stdout",
     "output_type": "stream",
     "text": [
      "the origional string is :     dhiraj kumar is not good guy\n",
      "\n",
      "\n",
      "the reversed string (using loops)is :   yug doog ton si ramuk jarihd  \n"
     ]
    }
   ],
   "source": [
    "def reverse(s):\n",
    "    str = \" \"\n",
    "    for i in s:\n",
    "        str = i+str\n",
    "    return str \n",
    "\n",
    "s= \" dhiraj kumar is not good guy\n",
    "\n",
    "but\"\n",
    "print (\"the origional string is : \",end =\"   \")\n",
    "print(s )\n",
    "print(\"\\n\")\n",
    "print(\"the reversed string (using loops)is :\" , end = \"   \")\n",
    "print (reverse(s))"
   ]
  },
  {
   "cell_type": "code",
   "execution_count": null,
   "metadata": {},
   "outputs": [],
   "source": []
  },
  {
   "cell_type": "code",
   "execution_count": null,
   "metadata": {},
   "outputs": [],
   "source": []
  }
 ],
 "metadata": {
  "kernelspec": {
   "display_name": "Python 3",
   "language": "python",
   "name": "python3"
  },
  "language_info": {
   "codemirror_mode": {
    "name": "ipython",
    "version": 3
   },
   "file_extension": ".py",
   "mimetype": "text/x-python",
   "name": "python",
   "nbconvert_exporter": "python",
   "pygments_lexer": "ipython3",
   "version": "3.7.3"
  }
 },
 "nbformat": 4,
 "nbformat_minor": 2
}

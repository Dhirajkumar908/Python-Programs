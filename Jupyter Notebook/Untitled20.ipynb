{
 "cells": [
  {
   "cell_type": "markdown",
   "metadata": {},
   "source": [
    "# write a python program to create an Enum object and display  a member name and value ."
   ]
  },
  {
   "cell_type": "code",
   "execution_count": 3,
   "metadata": {},
   "outputs": [
    {
     "name": "stdout",
     "output_type": "stream",
     "text": [
      "\n",
      " Member name : albania\n",
      "\n",
      " Member name : 355\n"
     ]
    }
   ],
   "source": [
    "from enum import Enum\n",
    "class Country(Enum):\n",
    "    india = 100\n",
    "    albania=355\n",
    "    algeria=213\n",
    "    andorra=376\n",
    "    angola=244\n",
    "    antarctica=672\n",
    "\n",
    "print('\\n Member name : {}'.format(Country.albania.name))\n",
    "print('\\n Member name : {}'.format(Country.albania.value))\n",
    "\n"
   ]
  },
  {
   "cell_type": "markdown",
   "metadata": {},
   "source": [
    "# Write  a python program to count the most common words in a dictionary."
   ]
  },
  {
   "cell_type": "code",
   "execution_count": 13,
   "metadata": {},
   "outputs": [
    {
     "name": "stdout",
     "output_type": "stream",
     "text": [
      "[('red', 3), ('go', 3), ('pink', 3), ('green', 2), ('book', 2), ('green ', 1), ('rice', 1)]\n"
     ]
    }
   ],
   "source": [
    "\n",
    "word= ['red','green','red','book','green ','book','go','red','rice','black','white','pink','green',\n",
    "       'orange','pink','road ','ready','go','pink','go','com','round','pond','star']\n",
    "from collections import Counter\n",
    "word_counts = Counter(word)\n",
    "\n",
    "top_four= word_counts.most_common(7)\n",
    "print(top_four)"
   ]
  },
  {
   "cell_type": "code",
   "execution_count": null,
   "metadata": {},
   "outputs": [],
   "source": []
  },
  {
   "cell_type": "code",
   "execution_count": null,
   "metadata": {},
   "outputs": [],
   "source": []
  }
 ],
 "metadata": {
  "kernelspec": {
   "display_name": "Python 3",
   "language": "python",
   "name": "python3"
  },
  "language_info": {
   "codemirror_mode": {
    "name": "ipython",
    "version": 3
   },
   "file_extension": ".py",
   "mimetype": "text/x-python",
   "name": "python",
   "nbconvert_exporter": "python",
   "pygments_lexer": "ipython3",
   "version": "3.7.3"
  }
 },
 "nbformat": 4,
 "nbformat_minor": 2
}

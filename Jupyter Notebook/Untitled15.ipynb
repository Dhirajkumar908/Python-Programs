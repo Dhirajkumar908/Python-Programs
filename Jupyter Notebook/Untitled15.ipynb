{
 "cells": [
  {
   "cell_type": "code",
   "execution_count": 5,
   "metadata": {},
   "outputs": [
    {
     "name": "stdout",
     "output_type": "stream",
     "text": [
      "Enter a integerweird : 44\n",
      "not weird\n"
     ]
    }
   ],
   "source": [
    "import sys\n",
    "\n",
    "n= int(input(\"Enter a integerweird : \"))\n",
    "\n",
    "if n%2==1:\n",
    "    print('weird')\n",
    "elif n%2==0 and 2<=n<=5:\n",
    "    print('not weird')\n",
    "elif n%2==0 and 6<=n<=20:\n",
    "    print('weird')\n",
    "else:\n",
    "    print('not weird')"
   ]
  },
  {
   "cell_type": "code",
   "execution_count": null,
   "metadata": {},
   "outputs": [],
   "source": []
  }
 ],
 "metadata": {
  "kernelspec": {
   "display_name": "Python 3",
   "language": "python",
   "name": "python3"
  },
  "language_info": {
   "codemirror_mode": {
    "name": "ipython",
    "version": 3
   },
   "file_extension": ".py",
   "mimetype": "text/x-python",
   "name": "python",
   "nbconvert_exporter": "python",
   "pygments_lexer": "ipython3",
   "version": "3.7.3"
  }
 },
 "nbformat": 4,
 "nbformat_minor": 2
}

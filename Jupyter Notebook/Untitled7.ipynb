{
 "cells": [
  {
   "cell_type": "code",
   "execution_count": null,
   "metadata": {},
   "outputs": [],
   "source": [
    "def selection_sort(sort_list):\n",
    "    for i in range (len (sort_list)):\n",
    "        smallest_element= min(sort_list[i:])\n",
    "        index_of_smallest=sort_list.index(mallest_elemen)\n",
    "        sort_list[i],\n",
    "        sort_list[index_of__smallest]=sort_list[index_of_smallest],\n",
    "        sort_list[i]\n",
    "    print('\\n\\nThe sorted list: \\t',sort_list)\n",
    "    \n",
    "lst=[]\n",
    "size= int(input(\"\\nEnter sizi of the list:\\t\"))\n",
    "\n",
    "for i in range(size):\n",
    "    elements= int(input(\"Enter the list:  \\t\"))\n",
    "    lst.append(elements)\n",
    "slection_sort(lst)"
   ]
  },
  {
   "cell_type": "code",
   "execution_count": null,
   "metadata": {},
   "outputs": [],
   "source": []
  }
 ],
 "metadata": {
  "kernelspec": {
   "display_name": "Python 3",
   "language": "python",
   "name": "python3"
  },
  "language_info": {
   "codemirror_mode": {
    "name": "ipython",
    "version": 3
   },
   "file_extension": ".py",
   "mimetype": "text/x-python",
   "name": "python",
   "nbconvert_exporter": "python",
   "pygments_lexer": "ipython3",
   "version": "3.7.3"
  }
 },
 "nbformat": 4,
 "nbformat_minor": 2
}

{
 "cells": [
  {
   "cell_type": "markdown",
   "metadata": {},
   "source": [
    "# Write a Python program to find whether a queue is empty or not"
   ]
  },
  {
   "cell_type": "code",
   "execution_count": 1,
   "metadata": {},
   "outputs": [
    {
     "name": "stdout",
     "output_type": "stream",
     "text": [
      "True\n",
      "False\n"
     ]
    }
   ],
   "source": [
    "import queue\n",
    "p= queue.Queue()\n",
    "q=queue.Queue()\n",
    "for x in range(4):\n",
    "    q.put(x)\n",
    "print(p.empty())\n",
    "\n",
    "print(q.empty())"
   ]
  },
  {
   "cell_type": "markdown",
   "metadata": {},
   "source": [
    "# Write a Python program to creat a LiFO queue."
   ]
  },
  {
   "cell_type": "code",
   "execution_count": 6,
   "metadata": {},
   "outputs": [
    {
     "name": "stdout",
     "output_type": "stream",
     "text": [
      "7 * 6 * 5 * 4 * 3 * 2 * 1 * 0 * \n"
     ]
    }
   ],
   "source": [
    "import queue\n",
    "q=queue.LifoQueue()\n",
    "\n",
    "# insert iteam at the headof the queue\n",
    "\n",
    "for x in range (8):\n",
    "    q.put(str(x))\n",
    "\n",
    "    #remove items from the heat of the queue\n",
    "\n",
    "    while not q.empty():\n",
    "    print(q.get(),end=\" * \")\n",
    "print()"
   ]
  }
 ],
 "metadata": {
  "kernelspec": {
   "display_name": "Python 3",
   "language": "python",
   "name": "python3"
  },
  "language_info": {
   "codemirror_mode": {
    "name": "ipython",
    "version": 3
   },
   "file_extension": ".py",
   "mimetype": "text/x-python",
   "name": "python",
   "nbconvert_exporter": "python",
   "pygments_lexer": "ipython3",
   "version": "3.7.3"
  }
 },
 "nbformat": 4,
 "nbformat_minor": 2
}

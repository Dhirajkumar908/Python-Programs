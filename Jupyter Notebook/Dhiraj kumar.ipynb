{
 "cells": [
  {
   "cell_type": "code",
   "execution_count": 22,
   "metadata": {},
   "outputs": [
    {
     "name": "stdout",
     "output_type": "stream",
     "text": [
      "Area of Rectangle=   50\n"
     ]
    }
   ],
   "source": [
    "# python program for find the Area of Rectangle\n",
    "\n",
    "def Area(width, height):\n",
    "    return widht*height\n",
    "widht=5;                     \n",
    "height=10;                        : ')\n",
    "print(\"Area of Rectangle=  \",Area (widht,height))\n",
    "\n",
    "# Fromula :Area of Rectangle= widht*height\n",
    "# w is the Widht  of rectengle\n",
    "# h is the height of cylender\n"
   ]
  },
  {
   "cell_type": "code",
   "execution_count": 23,
   "metadata": {},
   "outputs": [
    {
     "name": "stdout",
     "output_type": "stream",
     "text": [
      "Enter the Widht  of rectengle: 5\n",
      "Enter the height of rectengler: 10\n",
      "Area of Rectangle=   50\n"
     ]
    }
   ],
   "source": [
    "def Area(widht, height):\n",
    "    return  widht*height\n",
    "\n",
    "widht=int(input('Enter the Widht  of rectengle: '))\n",
    "height=int(input ('Enter the height of rectengler: '))\n",
    "print(\"Area of Rectangle=  \",Area (widht,height))\n"
   ]
  },
  {
   "cell_type": "code",
   "execution_count": null,
   "metadata": {},
   "outputs": [],
   "source": []
  },
  {
   "cell_type": "code",
   "execution_count": null,
   "metadata": {},
   "outputs": [],
   "source": []
  },
  {
   "cell_type": "code",
   "execution_count": null,
   "metadata": {},
   "outputs": [],
   "source": []
  }
 ],
 "metadata": {
  "kernelspec": {
   "display_name": "Python 3",
   "language": "python",
   "name": "python3"
  },
  "language_info": {
   "codemirror_mode": {
    "name": "ipython",
    "version": 3
   },
   "file_extension": ".py",
   "mimetype": "text/x-python",
   "name": "python",
   "nbconvert_exporter": "python",
   "pygments_lexer": "ipython3",
   "version": "3.7.3"
  }
 },
 "nbformat": 4,
 "nbformat_minor": 2
}

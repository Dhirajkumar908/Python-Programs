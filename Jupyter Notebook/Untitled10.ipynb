{
 "cells": [
  {
   "cell_type": "markdown",
   "metadata": {},
   "source": [
    "# Write function to compute gcd, lcm of two numbers. Each function shouldn’t exceed one line.  "
   ]
  },
  {
   "cell_type": "code",
   "execution_count": 6,
   "metadata": {},
   "outputs": [
    {
     "name": "stdout",
     "output_type": "stream",
     "text": [
      "Enter the value of num1: 23\n",
      "Enter the value of num2: 12\n",
      "The lcm is:  276\n"
     ]
    }
   ],
   "source": [
    "def comput_lcm(x,y):\n",
    "    if x>y:\n",
    "        greater=x\n",
    "    else:\n",
    "        greater=y\n",
    "    while(True):\n",
    "        if((greater % x==0) and (greater % y == 0)):\n",
    "            lcm  = greater\n",
    "            break \n",
    "        greater+=1\n",
    "    return lcm\n",
    "num1=int(input(\"Enter the value of num1: \"))\n",
    "num2=int(input(\"Enter the value of num2: \"))\n",
    "print(\"The lcm is: \",comput_lcm(num1,num2))\n"
   ]
  },
  {
   "cell_type": "code",
   "execution_count": null,
   "metadata": {},
   "outputs": [],
   "source": []
  }
 ],
 "metadata": {
  "kernelspec": {
   "display_name": "Python 3",
   "language": "python",
   "name": "python3"
  },
  "language_info": {
   "codemirror_mode": {
    "name": "ipython",
    "version": 3
   },
   "file_extension": ".py",
   "mimetype": "text/x-python",
   "name": "python",
   "nbconvert_exporter": "python",
   "pygments_lexer": "ipython3",
   "version": "3.7.3"
  }
 },
 "nbformat": 4,
 "nbformat_minor": 2
}

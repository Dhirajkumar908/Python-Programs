{
 "cells": [
  {
   "cell_type": "markdown",
   "metadata": {},
   "source": [
    "# write the program to convert degree to radian"
   ]
  },
  {
   "cell_type": "code",
   "execution_count": 3,
   "metadata": {},
   "outputs": [
    {
     "name": "stdout",
     "output_type": "stream",
     "text": [
      "Enter the degree: 145\n",
      "the value of radian:  3.107142857142857\n"
     ]
    }
   ],
   "source": [
    "pi = 27/7\n",
    "degree= float(input(\"Enter the degree: \"))\n",
    "radian=degree*(pi/180)\n",
    "print('the value of radian: ',radian)"
   ]
  },
  {
   "cell_type": "markdown",
   "metadata": {},
   "source": [
    "# Write a program to calculate the area of a trapezoid"
   ]
  },
  {
   "cell_type": "code",
   "execution_count": 12,
   "metadata": {},
   "outputs": [
    {
     "name": "stdout",
     "output_type": "stream",
     "text": [
      "enter the value of a: 6\n",
      "\n",
      "enter the value of b: 10\n",
      "\n",
      "enter the value of h: 5\n",
      "the area of trapezoid is:  40.0\n"
     ]
    }
   ],
   "source": [
    "area=((a+b)/2)*h\n",
    "a= int(input('enter the value of a: '))\n",
    "b= int(input('\\nenter the value of b: '))\n",
    "h= int(input('\\nenter the value of h: '))\n",
    "print('the area of trapezoid is: ',area)"
   ]
  },
  {
   "cell_type": "markdown",
   "metadata": {},
   "source": [
    "# write a program to calculate the area of parallogram.\n"
   ]
  },
  {
   "cell_type": "code",
   "execution_count": 13,
   "metadata": {},
   "outputs": [
    {
     "name": "stdout",
     "output_type": "stream",
     "text": [
      "Enter the value of a:5\n",
      "Enter the valure of a :6\n",
      "The area of parallogram is :  30\n"
     ]
    }
   ],
   "source": [
    "base=int(input ('Enter the value of a:'))\n",
    "height=int(input(\"Enter the valure of a :\"))\n",
    "area = base*height\n",
    "print(\"The area of parallogram is : \",area)"
   ]
  },
  {
   "cell_type": "markdown",
   "metadata": {},
   "source": [
    "# Python program to find  fibonacci number "
   ]
  },
  {
   "cell_type": "code",
   "execution_count": null,
   "metadata": {},
   "outputs": [],
   "source": [
    "def Fibonacci(n):\n",
    "    if n<0:\n",
    "        print(\"Incorrect intput\")\n",
    "    elif n==1:\n",
    "        return 0\n",
    "    elif n==2:\n",
    "        return 1\n",
    "    else:\n",
    "        return Fibonacci(n-1)+Fibonacci(n-2)\n",
    "n=int(input())\n",
    "print(Fibonacci(n))"
   ]
  },
  {
   "cell_type": "code",
   "execution_count": null,
   "metadata": {},
   "outputs": [],
   "source": []
  }
 ],
 "metadata": {
  "kernelspec": {
   "display_name": "Python 3",
   "language": "python",
   "name": "python3"
  },
  "language_info": {
   "codemirror_mode": {
    "name": "ipython",
    "version": 3
   },
   "file_extension": ".py",
   "mimetype": "text/x-python",
   "name": "python",
   "nbconvert_exporter": "python",
   "pygments_lexer": "ipython3",
   "version": "3.7.3"
  }
 },
 "nbformat": 4,
 "nbformat_minor": 2
}

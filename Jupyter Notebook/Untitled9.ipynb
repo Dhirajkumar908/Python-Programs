{
 "cells": [
  {
   "cell_type": "markdown",
   "metadata": {},
   "source": [
    "# Write a program to implement Insertion sort. IN PYHTON"
   ]
  },
  {
   "cell_type": "code",
   "execution_count": 9,
   "metadata": {},
   "outputs": [
    {
     "name": "stdout",
     "output_type": "stream",
     "text": [
      "Enter the list of numbers: 4 6 2 1 8\n",
      "sorted list: [1, 2, 4, 6, 8]\n"
     ]
    }
   ],
   "source": [
    "def insertion_sort(alist):\n",
    "    for i in range(1,len(alist)):\n",
    "        temp=alist[i]\n",
    "        j=i-1\n",
    "        while(j>=0 and temp<alist[j]):\n",
    "            alist[j+1]=alist[j]\n",
    "            j=j-1\n",
    "        alist[j+1]=temp\n",
    "        \n",
    "alist = input('Enter the list of numbers: ').split()\n",
    "alist=[int(x)for x in alist]\n",
    "insertion_sort(alist)\n",
    "print('sorted list: ',end = '')\n",
    "\n",
    "print(alist)"
   ]
  }
 ],
 "metadata": {
  "kernelspec": {
   "display_name": "Python 3",
   "language": "python",
   "name": "python3"
  },
  "language_info": {
   "codemirror_mode": {
    "name": "ipython",
    "version": 3
   },
   "file_extension": ".py",
   "mimetype": "text/x-python",
   "name": "python",
   "nbconvert_exporter": "python",
   "pygments_lexer": "ipython3",
   "version": "3.7.3"
  }
 },
 "nbformat": 4,
 "nbformat_minor": 2
}

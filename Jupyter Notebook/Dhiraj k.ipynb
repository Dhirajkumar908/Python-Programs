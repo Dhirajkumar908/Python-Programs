{
 "cells": [
  {
   "cell_type": "markdown",
   "metadata": {},
   "source": [
    "# Python program to find volume of sphere"
   ]
  },
  {
   "cell_type": "code",
   "execution_count": 6,
   "metadata": {},
   "outputs": [
    {
     "name": "stdout",
     "output_type": "stream",
     "text": [
      "\n",
      "Enter the radius of sphere: 4\n",
      "\n",
      "The volume of sphere is :   66.98666666666666\n"
     ]
    }
   ],
   "source": [
    "\n",
    "\n",
    "def volume(radius):\n",
    "    return (4/3)*(3.14)*radius**2\n",
    "\n",
    "radius = int(input('\\nEnter the radius of sphere: '))\n",
    "print(\"\\nThe volume of sphere is :  \",volume(radius))\n",
    "    \n",
    "   # Used formula is 4/3*pi*r^2\n",
    "    \n",
    "   # r is the radius of sphere \n",
    "    \n",
    "   # the value of Pi is 3.14"
   ]
  },
  {
   "cell_type": "markdown",
   "metadata": {},
   "source": [
    "#  Python Program to find the volume of cone"
   ]
  },
  {
   "cell_type": "code",
   "execution_count": 8,
   "metadata": {},
   "outputs": [
    {
     "name": "stdout",
     "output_type": "stream",
     "text": [
      "Enter the value of radius of cone:  5\n",
      "Enter the vakue of height of cone:  10\n",
      "\n",
      "The valume of cone is :   261.66666666666663\n"
     ]
    }
   ],
   "source": [
    "def volume(radius,height):\n",
    "    return (1/3)*3.14*(radius**2)*height\n",
    "\n",
    "radius= int(input(\"Enter the value of radius of cone:  \"))\n",
    "height= int(input(\"Enter the vakue of height of cone:  \"))\n",
    "\n",
    "print(\"\\nThe valume of cone is :  \",volume(radius , height))"
   ]
  },
  {
   "cell_type": "code",
   "execution_count": null,
   "metadata": {},
   "outputs": [],
   "source": [
    "\n"
   ]
  },
  {
   "cell_type": "markdown",
   "metadata": {},
   "source": [
    "# Python program to compute distance between to point"
   ]
  },
  {
   "cell_type": "code",
   "execution_count": 3,
   "metadata": {},
   "outputs": [
    {
     "name": "stdout",
     "output_type": "stream",
     "text": [
      "Enter the value of x1: 3\n",
      "Enter the value of x2: 4\n",
      "Enter the value of y1: 1\n",
      "Enter the value of y2: 5\n",
      "The diatance between two point Is : 4.123105625617661\n"
     ]
    }
   ],
   "source": [
    "import math\n",
    "def distance (x1,x2,y1,y2):\n",
    "    return math.sqrt((x2-x1)**2+(y2-y1)**2)\n",
    "    \n",
    "x1=int(input('Enter the value of x1: '))\n",
    "x2=int(input('Enter the value of x2: '))\n",
    "y1=int(input('Enter the value of y1: '))\n",
    "y2=int(input('Enter the value of y2: '))\n",
    "print(\"The diatance between two point Is :\" ,distance(x1,x2,y1,y2))"
   ]
  },
  {
   "cell_type": "markdown",
   "metadata": {},
   "source": [
    "# Using a for loop, write a program that prints out the decimal equivalents of 1/2, 1/3, 1/4, . . . , 1/10 "
   ]
  },
  {
   "cell_type": "code",
   "execution_count": 16,
   "metadata": {},
   "outputs": [
    {
     "name": "stdout",
     "output_type": "stream",
     "text": [
      "Enter the number of terms: 3\n",
      "The decimal equivalents of number is :  0.33\n"
     ]
    }
   ],
   "source": [
    "n=int (input(\"Enter the number of terms: \"))\n",
    "sum1=0\n",
    "for i in range(1,n+1):\n",
    "    sum1=(1/i)\n",
    "print(\"The decimal equivalents of number is : \",round(sum1,2))\n"
   ]
  },
  {
   "cell_type": "markdown",
   "metadata": {},
   "source": [
    "# is this Python program is wrong or wright\n"
   ]
  },
  {
   "cell_type": "code",
   "execution_count": null,
   "metadata": {},
   "outputs": [],
   "source": []
  },
  {
   "cell_type": "markdown",
   "metadata": {},
   "source": [
    "# Write a program to implement Merge sort."
   ]
  },
  {
   "cell_type": "code",
   "execution_count": 40,
   "metadata": {},
   "outputs": [
    {
     "name": "stdout",
     "output_type": "stream",
     "text": [
      "Enter the list of numbers :  4 2 3 \n"
     ]
    },
    {
     "ename": "TypeError",
     "evalue": "merge_sort() missing 1 required positional argument: 'end'",
     "output_type": "error",
     "traceback": [
      "\u001b[1;31m---------------------------------------------------------------------------\u001b[0m",
      "\u001b[1;31mTypeError\u001b[0m                                 Traceback (most recent call last)",
      "\u001b[1;32m<ipython-input-40-08ecb7df3b4c>\u001b[0m in \u001b[0;36m<module>\u001b[1;34m\u001b[0m\n\u001b[0;32m     31\u001b[0m \u001b[0malist\u001b[0m\u001b[1;33m=\u001b[0m \u001b[0minput\u001b[0m\u001b[1;33m(\u001b[0m\u001b[1;34m'Enter the list of numbers :  '\u001b[0m\u001b[1;33m)\u001b[0m\u001b[1;33m.\u001b[0m\u001b[0msplit\u001b[0m\u001b[1;33m(\u001b[0m\u001b[1;33m)\u001b[0m\u001b[1;33m\u001b[0m\u001b[1;33m\u001b[0m\u001b[0m\n\u001b[0;32m     32\u001b[0m \u001b[0malist\u001b[0m\u001b[1;33m=\u001b[0m\u001b[1;33m[\u001b[0m\u001b[0mint\u001b[0m\u001b[1;33m(\u001b[0m\u001b[0mx\u001b[0m\u001b[1;33m)\u001b[0m\u001b[1;32mfor\u001b[0m \u001b[0mx\u001b[0m \u001b[1;32min\u001b[0m \u001b[0malist\u001b[0m\u001b[1;33m]\u001b[0m\u001b[1;33m\u001b[0m\u001b[1;33m\u001b[0m\u001b[0m\n\u001b[1;32m---> 33\u001b[1;33m \u001b[0mmerge_sort\u001b[0m\u001b[1;33m(\u001b[0m\u001b[0malist\u001b[0m\u001b[1;33m,\u001b[0m\u001b[1;36m0\u001b[0m\u001b[1;33m,\u001b[0m\u001b[1;36m0\u001b[0m\u001b[1;33m,\u001b[0m\u001b[0mlen\u001b[0m\u001b[1;33m(\u001b[0m\u001b[0malist\u001b[0m\u001b[1;33m)\u001b[0m\u001b[1;33m)\u001b[0m\u001b[1;33m\u001b[0m\u001b[1;33m\u001b[0m\u001b[0m\n\u001b[0m\u001b[0;32m     34\u001b[0m \u001b[0mprint\u001b[0m\u001b[1;33m(\u001b[0m\u001b[1;34m'sorted list: '\u001b[0m\u001b[1;33m,\u001b[0m\u001b[0mend\u001b[0m\u001b[1;33m=\u001b[0m\u001b[1;34m''\u001b[0m\u001b[1;33m)\u001b[0m\u001b[1;33m\u001b[0m\u001b[1;33m\u001b[0m\u001b[0m\n\u001b[0;32m     35\u001b[0m \u001b[0mprint\u001b[0m\u001b[1;33m(\u001b[0m\u001b[0malist\u001b[0m\u001b[1;33m)\u001b[0m\u001b[1;33m\u001b[0m\u001b[1;33m\u001b[0m\u001b[0m\n",
      "\u001b[1;32m<ipython-input-40-08ecb7df3b4c>\u001b[0m in \u001b[0;36mmerge_sort\u001b[1;34m(alist, start, mid, end)\u001b[0m\n\u001b[0;32m      2\u001b[0m     \u001b[1;32mif\u001b[0m \u001b[0mend\u001b[0m \u001b[1;33m-\u001b[0m \u001b[0mstart\u001b[0m\u001b[1;33m>\u001b[0m\u001b[1;36m1\u001b[0m\u001b[1;33m:\u001b[0m\u001b[1;33m\u001b[0m\u001b[1;33m\u001b[0m\u001b[0m\n\u001b[0;32m      3\u001b[0m         \u001b[0mmid\u001b[0m \u001b[1;33m=\u001b[0m \u001b[1;33m(\u001b[0m\u001b[0mstart\u001b[0m\u001b[1;33m+\u001b[0m\u001b[0mend\u001b[0m\u001b[1;33m)\u001b[0m\u001b[1;33m//\u001b[0m\u001b[1;36m2\u001b[0m\u001b[1;33m\u001b[0m\u001b[1;33m\u001b[0m\u001b[0m\n\u001b[1;32m----> 4\u001b[1;33m         \u001b[0mmerge_sort\u001b[0m\u001b[1;33m(\u001b[0m\u001b[0malist\u001b[0m\u001b[1;33m,\u001b[0m\u001b[0mstart\u001b[0m\u001b[1;33m,\u001b[0m\u001b[0mmid\u001b[0m\u001b[1;33m)\u001b[0m\u001b[1;33m\u001b[0m\u001b[1;33m\u001b[0m\u001b[0m\n\u001b[0m\u001b[0;32m      5\u001b[0m         \u001b[0mmerge_sort\u001b[0m\u001b[1;33m(\u001b[0m\u001b[0malist\u001b[0m\u001b[1;33m,\u001b[0m\u001b[0mmid\u001b[0m\u001b[1;33m,\u001b[0m\u001b[0mend\u001b[0m\u001b[1;33m)\u001b[0m\u001b[1;33m\u001b[0m\u001b[1;33m\u001b[0m\u001b[0m\n\u001b[0;32m      6\u001b[0m         \u001b[0mmerge_sort\u001b[0m\u001b[1;33m(\u001b[0m\u001b[0malist\u001b[0m\u001b[1;33m,\u001b[0m\u001b[0mstart\u001b[0m\u001b[1;33m,\u001b[0m\u001b[0mmid\u001b[0m\u001b[1;33m,\u001b[0m\u001b[0mend\u001b[0m\u001b[1;33m)\u001b[0m\u001b[1;33m\u001b[0m\u001b[1;33m\u001b[0m\u001b[0m\n",
      "\u001b[1;31mTypeError\u001b[0m: merge_sort() missing 1 required positional argument: 'end'"
     ]
    }
   ],
   "source": [
    "def merge_sort(alist,start,mid,end):\n",
    "    if end - start>1:\n",
    "        mid = (start+end)//2\n",
    "        merge_sort(alist,start,mid)\n",
    "        merge_sort(alist,mid,end)\n",
    "        merge_sort(alist,start,mid,end)\n",
    "\n",
    "def merge_list(alist,start,mid,end):\n",
    "    left= alist[start:mid]\n",
    "    right=alist[mid:end]\n",
    "    k=start\n",
    "    i=0\n",
    "    j=0\n",
    "    while (start+1<mid and mid +j<end):\n",
    "        if (left[i]<=right[j]):\n",
    "            alist[k]=left[i]\n",
    "            i=i+1\n",
    "        else:\n",
    "            alist[k]=right[j]\n",
    "            j=j+1\n",
    "        k=k+1\n",
    "    if start +i <mid:\n",
    "        while k<end:\n",
    "            alist[k]=left[i]\n",
    "            i=i+1\n",
    "            k=k+1\n",
    "    else:\n",
    "        alist[k]=rigt[j]\n",
    "        j=j+1\n",
    "        k=k+1\n",
    "alist= input('Enter the list of numbers :  ').split()\n",
    "alist=[int(x)for x in alist]\n",
    "merge_sort(alist,0,0,len(alist))\n",
    "print('sorted list: ',end='')\n",
    "print(alist)\n",
    "\n",
    "                "
   ]
  },
  {
   "cell_type": "code",
   "execution_count": null,
   "metadata": {},
   "outputs": [],
   "source": []
  }
 ],
 "metadata": {
  "kernelspec": {
   "display_name": "Python 3",
   "language": "python",
   "name": "python3"
  },
  "language_info": {
   "codemirror_mode": {
    "name": "ipython",
    "version": 3
   },
   "file_extension": ".py",
   "mimetype": "text/x-python",
   "name": "python",
   "nbconvert_exporter": "python",
   "pygments_lexer": "ipython3",
   "version": "3.7.3"
  }
 },
 "nbformat": 4,
 "nbformat_minor": 2
}

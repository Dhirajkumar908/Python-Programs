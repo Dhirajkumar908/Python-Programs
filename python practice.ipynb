{
  "nbformat": 4,
  "nbformat_minor": 0,
  "metadata": {
    "colab": {
      "name": "A1.ipynb",
      "provenance": [],
      "private_outputs": true,
      "authorship_tag": "ABX9TyMNeczkcRRb+f2Phv/eItiD",
      "include_colab_link": true
    },
    "kernelspec": {
      "name": "python3",
      "display_name": "Python 3"
    },
    "accelerator": "GPU"
  },
  "cells": [
    {
      "cell_type": "markdown",
      "metadata": {
        "id": "view-in-github",
        "colab_type": "text"
      },
      "source": [
        "<a href=\"https://colab.research.google.com/github/Dhirajkumar908/Python-Programs/blob/master/python%20practice.ipynb\" target=\"_parent\"><img src=\"https://colab.research.google.com/assets/colab-badge.svg\" alt=\"Open In Colab\"/></a>"
      ]
    },
    {
      "cell_type": "code",
      "metadata": {
        "id": "UfCckzjvYE79",
        "colab_type": "code",
        "colab": {}
      },
      "source": [
        "a=[1,2,3,4,5]"
      ],
      "execution_count": 0,
      "outputs": []
    },
    {
      "cell_type": "code",
      "metadata": {
        "id": "HyWJUiprYQv_",
        "colab_type": "code",
        "colab": {}
      },
      "source": [
        "i=1\n",
        "while i <=10:\n",
        "  print(\"i is: {}\".format(i))\n",
        "  i=i+2"
      ],
      "execution_count": 0,
      "outputs": []
    },
    {
      "cell_type": "code",
      "metadata": {
        "id": "W9zWVMmOZQOB",
        "colab_type": "code",
        "colab": {}
      },
      "source": [
        "def time2(var):\n",
        "  return var*2\n",
        "time2(5)\n"
      ],
      "execution_count": 0,
      "outputs": []
    },
    {
      "cell_type": "code",
      "metadata": {
        "id": "msAlrYtIwocn",
        "colab_type": "code",
        "colab": {}
      },
      "source": [
        "sq=[1,2,3,4,5]\n",
        "\n",
        "list(map(lambda num:num*3,sq))"
      ],
      "execution_count": 0,
      "outputs": []
    },
    {
      "cell_type": "code",
      "metadata": {
        "id": "dzYbHg2sw89a",
        "colab_type": "code",
        "colab": {}
      },
      "source": [
        "t=lambda var:var*3\n",
        "t(9)"
      ],
      "execution_count": 0,
      "outputs": []
    },
    {
      "cell_type": "code",
      "metadata": {
        "id": "Si0TarNryDsg",
        "colab_type": "code",
        "colab": {}
      },
      "source": [
        "list(filter(lambda num: num%2== 0, sq))"
      ],
      "execution_count": 0,
      "outputs": []
    },
    {
      "cell_type": "code",
      "metadata": {
        "id": "IgaZET3by_Vy",
        "colab_type": "code",
        "colab": {}
      },
      "source": [
        "d=\"hello BABY where are you\"\n",
        "d.upper()"
      ],
      "execution_count": 0,
      "outputs": []
    },
    {
      "cell_type": "code",
      "metadata": {
        "id": "GZBzc2agzWJL",
        "colab_type": "code",
        "colab": {}
      },
      "source": [
        "d.split()"
      ],
      "execution_count": 0,
      "outputs": []
    },
    {
      "cell_type": "code",
      "metadata": {
        "id": "G4KNE26pz7eS",
        "colab_type": "code",
        "colab": {}
      },
      "source": [
        "tweet = 'Go Sports ! #Sport'\n",
        "tweet.split(\"#\")[1]"
      ],
      "execution_count": 0,
      "outputs": []
    },
    {
      "cell_type": "code",
      "metadata": {
        "id": "3fhZIKsY0RUH",
        "colab_type": "code",
        "colab": {}
      },
      "source": [
        "d={'k1':2,'k2':3,'k3':4}\n",
        "d"
      ],
      "execution_count": 0,
      "outputs": []
    },
    {
      "cell_type": "code",
      "metadata": {
        "id": "IYw0oEqL0k5H",
        "colab_type": "code",
        "colab": {}
      },
      "source": [
        "d.keys()"
      ],
      "execution_count": 0,
      "outputs": []
    },
    {
      "cell_type": "code",
      "metadata": {
        "id": "ddvv7Cyq1XIg",
        "colab_type": "code",
        "colab": {}
      },
      "source": [
        "d.items()"
      ],
      "execution_count": 0,
      "outputs": []
    },
    {
      "cell_type": "code",
      "metadata": {
        "id": "eAZUHzgX1wez",
        "colab_type": "code",
        "colab": {}
      },
      "source": [
        "d.values()"
      ],
      "execution_count": 0,
      "outputs": []
    },
    {
      "cell_type": "code",
      "metadata": {
        "id": "p92_YEX42R7C",
        "colab_type": "code",
        "colab": {}
      },
      "source": [
        "a=[1,2,33,66]\n",
        "a.pop()"
      ],
      "execution_count": 0,
      "outputs": []
    },
    {
      "cell_type": "code",
      "metadata": {
        "id": "Z8XsHHB_2neo",
        "colab_type": "code",
        "colab": {}
      },
      "source": [
        "a"
      ],
      "execution_count": 0,
      "outputs": []
    },
    {
      "cell_type": "code",
      "metadata": {
        "id": "BhBeLSNN24AZ",
        "colab_type": "code",
        "colab": {}
      },
      "source": [
        "lst=[1,2,3,4,5,6]\n",
        "item=lst.pop()"
      ],
      "execution_count": 0,
      "outputs": []
    },
    {
      "cell_type": "code",
      "metadata": {
        "id": "myLxelX03Whn",
        "colab_type": "code",
        "colab": {}
      },
      "source": [
        "lst"
      ],
      "execution_count": 0,
      "outputs": []
    },
    {
      "cell_type": "code",
      "metadata": {
        "id": "pwTzPy8T3bnw",
        "colab_type": "code",
        "colab": {}
      },
      "source": [
        "item"
      ],
      "execution_count": 0,
      "outputs": []
    },
    {
      "cell_type": "code",
      "metadata": {
        "id": "NfmpLsk_3f_0",
        "colab_type": "code",
        "colab": {}
      },
      "source": [
        "first=lst.pop(0)\n",
        "lst"
      ],
      "execution_count": 0,
      "outputs": []
    },
    {
      "cell_type": "code",
      "metadata": {
        "id": "u9DOx2H03r5B",
        "colab_type": "code",
        "colab": {}
      },
      "source": [
        "first"
      ],
      "execution_count": 0,
      "outputs": []
    },
    {
      "cell_type": "code",
      "metadata": {
        "id": "Rv7GVKQg34Nq",
        "colab_type": "code",
        "colab": {}
      },
      "source": [
        "lst.append('apple')"
      ],
      "execution_count": 0,
      "outputs": []
    },
    {
      "cell_type": "code",
      "metadata": {
        "id": "cT1jQSBL3-De",
        "colab_type": "code",
        "colab": {}
      },
      "source": [
        "lst"
      ],
      "execution_count": 0,
      "outputs": []
    },
    {
      "cell_type": "code",
      "metadata": {
        "id": "qGvRyeKp4AAy",
        "colab_type": "code",
        "colab": {}
      },
      "source": [
        "lst=[1,2,'appl',4,3,5]\n",
        "if 'apple' in lst:\n",
        "  print('apple is in list')\n",
        "else:\n",
        "  print('apple is not in list')"
      ],
      "execution_count": 0,
      "outputs": []
    },
    {
      "cell_type": "code",
      "metadata": {
        "id": "r2qVj2Mh4H1W",
        "colab_type": "code",
        "colab": {}
      },
      "source": [
        "'x' in ['x','y','c']"
      ],
      "execution_count": 0,
      "outputs": []
    },
    {
      "cell_type": "code",
      "metadata": {
        "id": "ow3FVB8Z4PI8",
        "colab_type": "code",
        "colab": {}
      },
      "source": [
        "x=[(1,2),(3,4),(5,6)]\n",
        "x"
      ],
      "execution_count": 0,
      "outputs": []
    },
    {
      "cell_type": "code",
      "metadata": {
        "id": "kLNZSdgJ5lGP",
        "colab_type": "code",
        "colab": {}
      },
      "source": [
        "for item in x:\n",
        "  print(item)"
      ],
      "execution_count": 0,
      "outputs": []
    },
    {
      "cell_type": "code",
      "metadata": {
        "id": "jMcAdcVn5oYq",
        "colab_type": "code",
        "colab": {}
      },
      "source": [
        "for (a,b) in x:\n",
        "  print(a)\n",
        "  print(b)"
      ],
      "execution_count": 0,
      "outputs": []
    },
    {
      "cell_type": "code",
      "metadata": {
        "id": "0Wy1vx9o6dWI",
        "colab_type": "code",
        "colab": {}
      },
      "source": [
        ""
      ],
      "execution_count": 0,
      "outputs": []
    }
  ]
}
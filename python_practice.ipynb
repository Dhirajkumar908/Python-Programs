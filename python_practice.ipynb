{
  "nbformat": 4,
  "nbformat_minor": 0,
  "metadata": {
    "colab": {
      "name": "python practice.ipynb",
      "provenance": [],
      "private_outputs": true,
      "collapsed_sections": [],
      "authorship_tag": "ABX9TyNy59HFuzvGYXiL8X9yecFC",
      "include_colab_link": true
    },
    "kernelspec": {
      "name": "python3",
      "display_name": "Python 3"
    }
  },
  "cells": [
    {
      "cell_type": "markdown",
      "metadata": {
        "id": "view-in-github",
        "colab_type": "text"
      },
      "source": [
        "<a href=\"https://colab.research.google.com/github/Dhirajkumar908/Python-Programs/blob/master/python_practice.ipynb\" target=\"_parent\"><img src=\"https://colab.research.google.com/assets/colab-badge.svg\" alt=\"Open In Colab\"/></a>"
      ]
    },
    {
      "cell_type": "code",
      "metadata": {
        "id": "F6179tr1hJGB",
        "colab_type": "code",
        "colab": {}
      },
      "source": [
        "print('hi ')\n",
        "print(' This is Dhiraj from chhapra bihar')\n",
        "print ('i am student of B.tech 3rd year computer science branch')\n",
        "print ('i love to be a software engineer ')\n"
      ],
      "execution_count": 0,
      "outputs": []
    },
    {
      "cell_type": "code",
      "metadata": {
        "id": "1RFP19g9iSsF",
        "colab_type": "code",
        "colab": {}
      },
      "source": [
        "\n",
        "a= int(input('Enter the number'))\n",
        "if a>2:\n",
        "  print('a>2')\n",
        "else:\n",
        "  print('a<2')"
      ],
      "execution_count": 0,
      "outputs": []
    },
    {
      "cell_type": "code",
      "metadata": {
        "id": "otcqMWY4ky7r",
        "colab_type": "code",
        "colab": {}
      },
      "source": [
        "a=int(input('enter a num'))\n",
        "b=str(input('Enter you name'))\n",
        "c=str(input('enter your friend name'))\n",
        "d=int(input('enter second num'))\n",
        "\n",
        "e=\"ramulal\"\n",
        "f=666\n",
        "\n",
        "\n",
        "print(a+d)\n",
        "print(str(a)+b)\n",
        "print(c+e)\n",
        "print(d+f)\n",
        "print((e)+str(e))\n",
        "print(str(c)+ str(f))\n"
      ],
      "execution_count": 0,
      "outputs": []
    },
    {
      "cell_type": "code",
      "metadata": {
        "id": "UfjyrkiTl4Xf",
        "colab_type": "code",
        "colab": {}
      },
      "source": [
        "Age=4\n",
        "AGE=5\n",
        "age=60\n",
        "name=\"Jay \"\n",
        "print(Age)\n",
        "print(AGE)\n",
        "print(age)\n",
        "print(str(name+\" Your age is  :\"+str(age)+\"year\"))\n"
      ],
      "execution_count": 0,
      "outputs": []
    },
    {
      "cell_type": "code",
      "metadata": {
        "id": "X6wzE2ceuqV-",
        "colab_type": "code",
        "colab": {}
      },
      "source": [
        "a=(3,4,2,4,5,3,2,3,4,55,)\n",
        "print(a)\n",
        "b=[\"dhiraj\",\"Jay\",\"rahul\"]\n",
        "print(b)\n",
        "c={4:\"dhiraj \",7:\"Jay\",8:\"sohail\"}\n",
        "print(c[8])"
      ],
      "execution_count": 0,
      "outputs": []
    },
    {
      "cell_type": "code",
      "metadata": {
        "id": "EUv2bUiGzRTi",
        "colab_type": "code",
        "colab": {}
      },
      "source": [
        "a=\" Hi sir how r u\"\n",
        "print(a)\n",
        "b=20\n",
        "print(b)\n",
        "c=20.5\n",
        "print(c)\n",
        "\n",
        "d=1j\n",
        "print(d)\n",
        "ab=[\"apple\",\"banana\",\"cherry\"]\n",
        "print(ab)\n",
        "ac=(\"apple\",\"banana\",\"cherry\")\n",
        "print(ac)\n"
      ],
      "execution_count": 0,
      "outputs": []
    },
    {
      "cell_type": "code",
      "metadata": {
        "id": "ev75xElx1Rdt",
        "colab_type": "code",
        "colab": {}
      },
      "source": [
        "a=range(10)\n",
        "print(a)\n",
        "print(type(a))\n",
        "b={\"name\":\"john\",\"age\":36}\n",
        "print(b)\n",
        "print(type(b))\n",
        "\n",
        "c={\"apple \",\"banana\",\"cherry\"}\n",
        "print(c)\n",
        "print(type(c))\n",
        "\n",
        "d=frozenset({\"apple \",\"banana\",\"cherry\"})\n",
        "print(d)\n",
        "print(type(d))"
      ],
      "execution_count": 0,
      "outputs": []
    },
    {
      "cell_type": "code",
      "metadata": {
        "id": "Z2rKj6ox2m1-",
        "colab_type": "code",
        "colab": {}
      },
      "source": [
        "a=True\n",
        "print(type(a))\n",
        "ac=b\"hello\"\n",
        "print(ac)\n",
        "print(type(ac))"
      ],
      "execution_count": 0,
      "outputs": []
    },
    {
      "cell_type": "code",
      "metadata": {
        "id": "FJBJNUM64Y7r",
        "colab_type": "code",
        "colab": {}
      },
      "source": [
        "ad=bytearray(5)\n",
        "print(ad)\n",
        "print(type(ad))"
      ],
      "execution_count": 0,
      "outputs": []
    },
    {
      "cell_type": "code",
      "metadata": {
        "id": "FoLmWRdk4qAu",
        "colab_type": "code",
        "colab": {}
      },
      "source": [
        "at=memoryview(bytes(5))\n",
        "print(at)\n",
        "print(type(at))"
      ],
      "execution_count": 0,
      "outputs": []
    }
  ]
}